{
 "cells": [
  {
   "cell_type": "markdown",
   "id": "sufficient-pipeline",
   "metadata": {},
   "source": [
    "# XOR EXPERIMENT (CONTINUOUS VERSION)\n",
    "\n",
    "In this Experiment, we carry a classification task based on a variation of the XOR problem. For this experiment, we  generate random pairs $(x_1,x_2) \\in [-1,1]^2$, and then assign to each of these pairs a label of 1 if $x_1$ and $x_2$ are both positive or both negative, and 0 if one is positive and the other is negative. \n"
   ]
  },
  {
   "cell_type": "markdown",
   "id": "effective-dispute",
   "metadata": {},
   "source": [
    "## Create the data\n",
    "We begin by defining the dataset that we will be working with\n"
   ]
  },
  {
   "cell_type": "code",
   "execution_count": 27,
   "id": "constant-location",
   "metadata": {},
   "outputs": [],
   "source": [
    "#Import Modules\n",
    "import numpy as np\n",
    "import random\n",
    "import matplotlib.pyplot as plt\n",
    "\n",
    "#Define a function to generate the dataset\n",
    "def create_XOR_data(size):\n",
    "    Data = []\n",
    "    Target = []\n",
    "    for i in range(size):\n",
    "        Data.append([random.uniform(-1,1), random.uniform(-1,1)])\n",
    "        if Data[i][0]*Data[i][1] >= 0:\n",
    "            Target.append([1,0])\n",
    "        else:\n",
    "            Target.append([0,1])\n",
    "    return np.array(Data), np.array(Target)"
   ]
  },
  {
   "cell_type": "code",
   "execution_count": 24,
   "id": "artificial-repeat",
   "metadata": {},
   "outputs": [],
   "source": [
    "#Create training, validation and testing sets\n",
    "\n",
    "data_train, target_train = create_XOR_data(1000)\n",
    "data_val, target_val = create_XOR_data(1000)\n",
    "data_test,target_test = create_XOR_data(1000)"
   ]
  },
  {
   "cell_type": "code",
   "execution_count": 25,
   "id": "outside-advertising",
   "metadata": {},
   "outputs": [],
   "source": [
    "# Plot the data\n",
    "def plot_red_blue_data(data, target, title):\n",
    "    data_red=[]\n",
    "    data_blue=[]\n",
    "    for i in range(len(data)):\n",
    "        if target[i][0]==1:\n",
    "            data_blue.append(data[i])\n",
    "        else:\n",
    "            data_red.append(data[i])\n",
    "\n",
    "    plt.plot(np.array(data_blue)[:,0], np.array(data_blue)[:,1], \"bo\")\n",
    "    plt.plot(np.array(data_red)[:,0], np.array(data_red)[:,1], \"ro\")\n",
    "    plt.title(title)"
   ]
  },
  {
   "cell_type": "code",
   "execution_count": 26,
   "id": "packed-delhi",
   "metadata": {},
   "outputs": [
    {
     "data": {
      "image/png": "[encoded data removed]",
      "text/plain": [
       "<Figure size 432x288 with 1 Axes>"
      ]
     },
     "metadata": {
      "needs_background": "light"
     },
     "output_type": "display_data"
    }
   ],
   "source": [
    "plot_red_blue_data(data_train, target_train, \"Generated Dataset for the XOR classification task\")"
   ]
  },
  {
   "cell_type": "markdown",
   "id": "imperial-cricket",
   "metadata": {},
   "source": [
    "## Train Baseline Models\n",
    "We now want to train the three baselines that we use, i.e. Adam, SGD and RMSProp\n",
    "\n",
    "### Stochastic Gradient Descent\n",
    "We begin by looking at the results with the SGD algorithm"
   ]
  },
  {
   "cell_type": "code",
   "execution_count": 28,
   "id": "automatic-senator",
   "metadata": {},
   "outputs": [],
   "source": [
    "#Import functions from Utils\n",
    "from utils_xor import xor_model, train_baseline, train_LRSFN, predictions_xor"
   ]
  },
  {
   "cell_type": "code",
   "execution_count": 29,
   "id": "helpful-celebration",
   "metadata": {},
   "outputs": [
    {
     "name": "stdout",
     "output_type": "stream",
     "text": [
      "Train on 1000 samples\n",
      "Epoch 1/25\n",
      "1000/1000 - 2s - loss: 0.6928 - binary_accuracy: 0.5130\n",
      "Epoch 2/25\n",
      "1000/1000 - 1s - loss: 0.6927 - binary_accuracy: 0.5190\n",
      "Epoch 3/25\n",
      "1000/1000 - 1s - loss: 0.6926 - binary_accuracy: 0.5405\n",
      "Epoch 4/25\n",
      "1000/1000 - 2s - loss: 0.6926 - binary_accuracy: 0.5470\n",
      "Epoch 5/25\n",
      "1000/1000 - 1s - loss: 0.6925 - binary_accuracy: 0.5605\n",
      "Epoch 6/25\n",
      "1000/1000 - 1s - loss: 0.6924 - binary_accuracy: 0.5680\n",
      "Epoch 7/25\n",
      "1000/1000 - 1s - loss: 0.6925 - binary_accuracy: 0.5775\n",
      "Epoch 8/25\n",
      "1000/1000 - 1s - loss: 0.6924 - binary_accuracy: 0.5580\n",
      "Epoch 9/25\n",
      "1000/1000 - 1s - loss: 0.6924 - binary_accuracy: 0.5705\n",
      "Epoch 10/25\n",
      "1000/1000 - 1s - loss: 0.6924 - binary_accuracy: 0.5625\n",
      "Epoch 11/25\n",
      "1000/1000 - 1s - loss: 0.6924 - binary_accuracy: 0.5680\n",
      "Epoch 12/25\n",
      "1000/1000 - 1s - loss: 0.6923 - binary_accuracy: 0.5650\n",
      "Epoch 13/25\n",
      "1000/1000 - 2s - loss: 0.6923 - binary_accuracy: 0.5660\n",
      "Epoch 14/25\n",
      "1000/1000 - 1s - loss: 0.6924 - binary_accuracy: 0.5755\n",
      "Epoch 15/25\n",
      "1000/1000 - 1s - loss: 0.6923 - binary_accuracy: 0.5770\n",
      "Epoch 16/25\n",
      "1000/1000 - 0s - loss: 0.6923 - binary_accuracy: 0.5870\n",
      "Epoch 17/25\n",
      "1000/1000 - 1s - loss: 0.6923 - binary_accuracy: 0.5865\n",
      "Epoch 18/25\n",
      "1000/1000 - 0s - loss: 0.6923 - binary_accuracy: 0.5705\n",
      "Epoch 19/25\n",
      "1000/1000 - 1s - loss: 0.6923 - binary_accuracy: 0.5850\n",
      "Epoch 20/25\n",
      "1000/1000 - 1s - loss: 0.6923 - binary_accuracy: 0.5925\n",
      "Epoch 21/25\n",
      "1000/1000 - 1s - loss: 0.6923 - binary_accuracy: 0.5995\n",
      "Epoch 22/25\n",
      "1000/1000 - 1s - loss: 0.6923 - binary_accuracy: 0.6010\n",
      "Epoch 23/25\n",
      "1000/1000 - 1s - loss: 0.6923 - binary_accuracy: 0.5895\n",
      "Epoch 24/25\n",
      "1000/1000 - 1s - loss: 0.6923 - binary_accuracy: 0.5945\n",
      "Epoch 25/25\n",
      "1000/1000 - 1s - loss: 0.6923 - binary_accuracy: 0.5895\n"
     ]
    }
   ],
   "source": [
    "#Initialize Model\n",
    "model_SGD = xor_model()\n",
    "#Train Model\n",
    "model_SGD = train_baseline(data_train, target_train, model_SGD, \"SGD\")"
   ]
  },
  {
   "cell_type": "code",
   "execution_count": 30,
   "id": "ranging-bruce",
   "metadata": {},
   "outputs": [
    {
     "name": "stderr",
     "output_type": "stream",
     "text": [
      "/usr/local/lib/python3.6/dist-packages/tensorflow/python/keras/engine/training.py:2426: UserWarning: `Model.state_updates` will be removed in a future version. This property should not be used in TensorFlow 2.0, as `updates` are applied automatically.\n",
      "  warnings.warn('`Model.state_updates` will be removed in a future version. '\n"
     ]
    }
   ],
   "source": [
    "y_pred = predictions_xor(model_SGD,data_test)"
   ]
  },
  {
   "cell_type": "code",
   "execution_count": 31,
   "id": "different-throat",
   "metadata": {},
   "outputs": [
    {
     "data": {
      "image/png": "[encoded data removed]",
      "text/plain": [
       "<Figure size 432x288 with 1 Axes>"
      ]
     },
     "metadata": {
      "needs_background": "light"
     },
     "output_type": "display_data"
    }
   ],
   "source": [
    "plot_red_blue_data(data_test, y_pred, \"Predictions with SGD Optimizer\")"
   ]
  },
  {
   "cell_type": "markdown",
   "id": "sorted-threshold",
   "metadata": {},
   "source": [
    "### Adam"
   ]
  },
  {
   "cell_type": "code",
   "execution_count": 32,
   "id": "continuous-developer",
   "metadata": {},
   "outputs": [
    {
     "name": "stdout",
     "output_type": "stream",
     "text": [
      "Train on 1000 samples\n",
      "Epoch 1/25\n",
      "1000/1000 - 1s - loss: 0.6956 - binary_accuracy: 0.4470\n",
      "Epoch 2/25\n",
      "1000/1000 - 1s - loss: 0.6938 - binary_accuracy: 0.6235\n",
      "Epoch 3/25\n",
      "1000/1000 - 1s - loss: 0.6938 - binary_accuracy: 0.5205\n",
      "Epoch 4/25\n",
      "1000/1000 - 2s - loss: 0.6936 - binary_accuracy: 0.6405\n",
      "Epoch 5/25\n",
      "1000/1000 - 1s - loss: 0.6929 - binary_accuracy: 0.6545\n",
      "Epoch 6/25\n",
      "1000/1000 - 2s - loss: 0.6930 - binary_accuracy: 0.5740\n",
      "Epoch 7/25\n",
      "1000/1000 - 2s - loss: 0.6934 - binary_accuracy: 0.5405\n",
      "Epoch 8/25\n",
      "1000/1000 - 1s - loss: 0.6926 - binary_accuracy: 0.5750\n",
      "Epoch 9/25\n",
      "1000/1000 - 1s - loss: 0.6940 - binary_accuracy: 0.5260\n",
      "Epoch 10/25\n",
      "1000/1000 - 0s - loss: 0.6936 - binary_accuracy: 0.5625\n",
      "Epoch 11/25\n",
      "1000/1000 - 1s - loss: 0.6950 - binary_accuracy: 0.5940\n",
      "Epoch 12/25\n",
      "1000/1000 - 2s - loss: 0.6930 - binary_accuracy: 0.5385\n",
      "Epoch 13/25\n",
      "1000/1000 - 2s - loss: 0.6932 - binary_accuracy: 0.6170\n",
      "Epoch 14/25\n",
      "1000/1000 - 2s - loss: 0.6930 - binary_accuracy: 0.5485\n",
      "Epoch 15/25\n",
      "1000/1000 - 2s - loss: 0.6931 - binary_accuracy: 0.5615\n",
      "Epoch 16/25\n",
      "1000/1000 - 2s - loss: 0.6931 - binary_accuracy: 0.5530\n",
      "Epoch 17/25\n",
      "1000/1000 - 1s - loss: 0.6925 - binary_accuracy: 0.5830\n",
      "Epoch 18/25\n",
      "1000/1000 - 0s - loss: 0.6929 - binary_accuracy: 0.6200\n",
      "Epoch 19/25\n",
      "1000/1000 - 0s - loss: 0.6930 - binary_accuracy: 0.6245\n",
      "Epoch 20/25\n",
      "1000/1000 - 0s - loss: 0.6930 - binary_accuracy: 0.4955\n",
      "Epoch 21/25\n",
      "1000/1000 - 1s - loss: 0.6928 - binary_accuracy: 0.5415\n",
      "Epoch 22/25\n",
      "1000/1000 - 1s - loss: 0.6927 - binary_accuracy: 0.6370\n",
      "Epoch 23/25\n",
      "1000/1000 - 2s - loss: 0.6937 - binary_accuracy: 0.5610\n",
      "Epoch 24/25\n",
      "1000/1000 - 2s - loss: 0.6928 - binary_accuracy: 0.6095\n",
      "Epoch 25/25\n",
      "1000/1000 - 2s - loss: 0.6926 - binary_accuracy: 0.6295\n"
     ]
    }
   ],
   "source": [
    "#Initialize Model\n",
    "model_SGD = xor_model()\n",
    "#Train Model\n",
    "model_SGD = train_baseline(data_train, target_train, model_SGD, \"Adam\")"
   ]
  },
  {
   "cell_type": "code",
   "execution_count": 33,
   "id": "divine-official",
   "metadata": {},
   "outputs": [
    {
     "name": "stderr",
     "output_type": "stream",
     "text": [
      "/usr/local/lib/python3.6/dist-packages/tensorflow/python/keras/engine/training.py:2426: UserWarning: `Model.state_updates` will be removed in a future version. This property should not be used in TensorFlow 2.0, as `updates` are applied automatically.\n",
      "  warnings.warn('`Model.state_updates` will be removed in a future version. '\n"
     ]
    },
    {
     "data": {
      "image/png": "[encoded data removed]",
      "text/plain": [
       "<Figure size 432x288 with 1 Axes>"
      ]
     },
     "metadata": {
      "needs_background": "light"
     },
     "output_type": "display_data"
    }
   ],
   "source": [
    "y_pred = predictions_xor(model_SGD,data_test)\n",
    "plot_red_blue_data(data_test, y_pred, \"Predictions with SGD Optimizer\")"
   ]
  },
  {
   "cell_type": "markdown",
   "id": "chicken-channels",
   "metadata": {},
   "source": [
    "### RMSprop"
   ]
  },
  {
   "cell_type": "code",
   "execution_count": 34,
   "id": "silent-screw",
   "metadata": {},
   "outputs": [
    {
     "name": "stdout",
     "output_type": "stream",
     "text": [
      "Train on 1000 samples\n",
      "Epoch 1/25\n",
      "1000/1000 - 0s - loss: 0.6953 - binary_accuracy: 0.4810\n",
      "Epoch 2/25\n",
      "1000/1000 - 1s - loss: 0.6938 - binary_accuracy: 0.5045\n",
      "Epoch 3/25\n",
      "1000/1000 - 1s - loss: 0.6933 - binary_accuracy: 0.6105\n",
      "Epoch 4/25\n",
      "1000/1000 - 1s - loss: 0.6932 - binary_accuracy: 0.5425\n",
      "Epoch 5/25\n",
      "1000/1000 - 1s - loss: 0.6935 - binary_accuracy: 0.5130\n",
      "Epoch 6/25\n",
      "1000/1000 - 1s - loss: 0.6937 - binary_accuracy: 0.6195\n",
      "Epoch 7/25\n",
      "1000/1000 - 1s - loss: 0.6938 - binary_accuracy: 0.5375\n",
      "Epoch 8/25\n",
      "1000/1000 - 1s - loss: 0.6938 - binary_accuracy: 0.4750\n",
      "Epoch 9/25\n",
      "1000/1000 - 1s - loss: 0.6928 - binary_accuracy: 0.6050\n",
      "Epoch 10/25\n",
      "1000/1000 - 1s - loss: 0.6933 - binary_accuracy: 0.5640\n",
      "Epoch 11/25\n",
      "1000/1000 - 1s - loss: 0.6934 - binary_accuracy: 0.5050\n",
      "Epoch 12/25\n",
      "1000/1000 - 1s - loss: 0.6933 - binary_accuracy: 0.5435\n",
      "Epoch 13/25\n",
      "1000/1000 - 0s - loss: 0.6934 - binary_accuracy: 0.4995\n",
      "Epoch 14/25\n",
      "1000/1000 - 1s - loss: 0.6935 - binary_accuracy: 0.4995\n",
      "Epoch 15/25\n",
      "1000/1000 - 1s - loss: 0.6932 - binary_accuracy: 0.5265\n",
      "Epoch 16/25\n",
      "1000/1000 - 2s - loss: 0.6928 - binary_accuracy: 0.6280\n",
      "Epoch 17/25\n",
      "1000/1000 - 1s - loss: 0.6937 - binary_accuracy: 0.5095\n",
      "Epoch 18/25\n",
      "1000/1000 - 2s - loss: 0.6935 - binary_accuracy: 0.5995\n",
      "Epoch 19/25\n",
      "1000/1000 - 2s - loss: 0.6934 - binary_accuracy: 0.5585\n",
      "Epoch 20/25\n",
      "1000/1000 - 1s - loss: 0.6937 - binary_accuracy: 0.4335\n",
      "Epoch 21/25\n",
      "1000/1000 - 0s - loss: 0.6943 - binary_accuracy: 0.6010\n",
      "Epoch 22/25\n",
      "1000/1000 - 1s - loss: 0.6927 - binary_accuracy: 0.6325\n",
      "Epoch 23/25\n",
      "1000/1000 - 2s - loss: 0.6940 - binary_accuracy: 0.5715\n",
      "Epoch 24/25\n",
      "1000/1000 - 2s - loss: 0.6929 - binary_accuracy: 0.5275\n",
      "Epoch 25/25\n",
      "1000/1000 - 2s - loss: 0.6948 - binary_accuracy: 0.5800\n"
     ]
    }
   ],
   "source": [
    "#Initialize Model\n",
    "model_SGD = xor_model()\n",
    "#Train Model\n",
    "model_SGD = train_baseline(data_train, target_train, model_SGD, \"Adam\")"
   ]
  },
  {
   "cell_type": "code",
   "execution_count": 35,
   "id": "institutional-teacher",
   "metadata": {},
   "outputs": [
    {
     "name": "stderr",
     "output_type": "stream",
     "text": [
      "/usr/local/lib/python3.6/dist-packages/tensorflow/python/keras/engine/training.py:2426: UserWarning: `Model.state_updates` will be removed in a future version. This property should not be used in TensorFlow 2.0, as `updates` are applied automatically.\n",
      "  warnings.warn('`Model.state_updates` will be removed in a future version. '\n"
     ]
    },
    {
     "data": {
      "image/png": "[encoded data removed]",
      "text/plain": [
       "<Figure size 432x288 with 1 Axes>"
      ]
     },
     "metadata": {
      "needs_background": "light"
     },
     "output_type": "display_data"
    }
   ],
   "source": [
    "y_pred = predictions_xor(model_SGD,data_test)\n",
    "plot_red_blue_data(data_test, y_pred, \"Predictions with SGD Optimizer\")"
   ]
  },
  {
   "cell_type": "markdown",
   "id": "graduate-plaza",
   "metadata": {},
   "source": [
    "## LRSFN MODEL\n",
    "\n",
    "We now train and test with the LRSFN model"
   ]
  },
  {
   "cell_type": "code",
   "execution_count": 14,
   "id": "structured-identity",
   "metadata": {},
   "outputs": [
    {
     "name": "stderr",
     "output_type": "stream",
     "text": [
      "/usr/local/lib/python3.6/dist-packages/tensorflow/python/keras/backend.py:4870: UserWarning: \"`categorical_crossentropy` received `from_logits=True`, but the `output` argument was produced by a sigmoid or softmax activation and thus does not represent logits. Was this intended?\"\n",
      "  '\"`categorical_crossentropy` received `from_logits=True`, but '\n"
     ]
    },
    {
     "name": "stdout",
     "output_type": "stream",
     "text": [
      "Data dimension agree\n",
      "################################################################################\n",
      "                       Size of configuration space:  2502                       \n",
      "                          Size of training data: 1000                           \n",
      "                   Approximate data cardinality needed: 1251                    \n",
      "################################################################################\n",
      "                  Using low rank SFN optimizer with fixed step                  \n",
      "                                 Batch size = 4                                 \n",
      "                             Hessian batch size = 4                             \n",
      "                              Hessian low rank = 5                              \n",
      "################################################################################\n",
      " sweeps    Loss     acc     ||g||   Lossval   accval   maxacc   alpha     rank   \n",
      "  0.00   6.99e-01 50.000% 1.31e+00 6.94e-01 50.700% 50.700% 1.00e-02     0 \n",
      "  2.02   6.42e-01 75.000% 5.72e-01 6.96e-01 51.400% 51.400% 1.00e-02     5 \n",
      "  4.00   7.45e-01 0.000% 1.09e+00 6.94e-01 53.300% 61.800% 1.00e-02     5 \n",
      "  6.03   7.23e-01 50.000% 2.63e-01 6.97e-01 62.900% 62.900% 1.00e-02     5 \n",
      "  8.01   7.61e-01 25.000% 3.07e-01 6.97e-01 45.800% 62.900% 1.00e-02     5 \n",
      " 10.03   7.78e-01 0.000% 1.34e+00 7.00e-01 48.600% 65.300% 1.00e-02     5 \n",
      " 12.01   7.84e-01 25.000% 8.53e-01 7.09e-01 50.400% 65.300% 1.00e-02     5 \n",
      " 14.04   7.49e-01 50.000% 5.45e-01 6.98e-01 51.400% 65.300% 1.00e-02     5 \n",
      " 16.02   6.46e-01 75.000% 5.84e-01 6.94e-01 37.900% 65.300% 1.00e-02     5 \n",
      " 18.04   6.95e-01 50.000% 6.42e-01 6.94e-01 45.300% 65.300% 1.00e-02     5 \n",
      " 20.02   7.17e-01 25.000% 1.71e-01 6.94e-01 35.800% 65.300% 1.00e-02     5 \n",
      " 22.00   4.96e-01 100.000% 1.15e+00 6.96e-01 36.600% 65.300% 1.00e-02     5 \n",
      " 24.02   8.22e-01 25.000% 1.05e+00 7.42e-01 41.100% 65.300% 1.00e-02     5 \n",
      " 24.99   5.64e-01 50.000% 3.41e-01                   65.300% 1.00e-02     5 \n"
     ]
    }
   ],
   "source": [
    "#Initialize Model\n",
    "model_SFN = xor_model()\n",
    "#Train Model\n",
    "model_SFN = train_LRSFN(data_train, target_train, data_val, target_val, model_SGD)"
   ]
  },
  {
   "cell_type": "code",
   "execution_count": 16,
   "id": "responsible-alberta",
   "metadata": {},
   "outputs": [
    {
     "ename": "AttributeError",
     "evalue": "'HessianlearnModel' object has no attribute 'pred'",
     "output_type": "error",
     "traceback": [
      "\u001b[0;31m---------------------------------------------------------------------------\u001b[0m",
      "\u001b[0;31mAttributeError\u001b[0m                            Traceback (most recent call last)",
      "\u001b[0;32m<ipython-input-16-f0ac25d9c716>\u001b[0m in \u001b[0;36m<module>\u001b[0;34m\u001b[0m\n\u001b[0;32m----> 1\u001b[0;31m \u001b[0mmodel_SFN\u001b[0m\u001b[0;34m.\u001b[0m\u001b[0mpred\u001b[0m\u001b[0;34m(\u001b[0m\u001b[0mdata_test\u001b[0m\u001b[0;34m)\u001b[0m\u001b[0;34m\u001b[0m\u001b[0;34m\u001b[0m\u001b[0m\n\u001b[0m",
      "\u001b[0;31mAttributeError\u001b[0m: 'HessianlearnModel' object has no attribute 'pred'"
     ]
    }
   ],
   "source": [
    "#Initialize Model\n",
    "model_SFN = xor_model()\n",
    "#Train Model\n",
    "model_SFN = train_LRSFN(data_train, target_train, data_val, target_val, model_SFN)"
   ]
  },
  {
   "cell_type": "code",
   "execution_count": 36,
   "id": "charged-library",
   "metadata": {},
   "outputs": [
    {
     "name": "stderr",
     "output_type": "stream",
     "text": [
      "/usr/local/lib/python3.6/dist-packages/tensorflow/python/keras/backend.py:4870: UserWarning: \"`categorical_crossentropy` received `from_logits=True`, but the `output` argument was produced by a sigmoid or softmax activation and thus does not represent logits. Was this intended?\"\n",
      "  '\"`categorical_crossentropy` received `from_logits=True`, but '\n"
     ]
    },
    {
     "name": "stdout",
     "output_type": "stream",
     "text": [
      "Data dimension agree\n",
      "################################################################################\n",
      "                       Size of configuration space:  2502                       \n",
      "                          Size of training data: 1000                           \n",
      "                   Approximate data cardinality needed: 1251                    \n",
      "################################################################################\n",
      "                  Using low rank SFN optimizer with fixed step                  \n",
      "                                 Batch size = 4                                 \n",
      "                             Hessian batch size = 4                             \n",
      "                              Hessian low rank = 5                              \n",
      "################################################################################\n",
      " sweeps    Loss     acc     ||g||   Lossval   accval   maxacc   alpha     rank   \n",
      "  0.00   7.20e-01 50.000% 6.91e-01 6.99e-01 48.800% 48.800% 1.00e-02     0 \n",
      "  2.02   6.45e-01 100.000% 8.86e-01 6.94e-01 46.900% 48.800% 1.00e-02     5 \n",
      "  4.00   6.73e-01 75.000% 8.17e-01 6.92e-01 59.200% 59.200% 1.00e-02     5 \n",
      "  6.03   7.05e-01 25.000% 4.60e-01 6.90e-01 38.500% 59.200% 1.00e-02     5 \n",
      "  8.01   7.27e-01 25.000% 4.79e-01 6.98e-01 47.200% 59.200% 1.00e-02     5 \n",
      " 10.03   8.02e-01 25.000% 6.08e-01 7.22e-01 47.200% 59.200% 1.00e-02     5 \n",
      " 12.01   8.26e-01 25.000% 7.88e-01 7.28e-01 47.200% 59.200% 1.00e-02     5 \n",
      " 14.04   6.79e-01 50.000% 8.55e-02 6.90e-01 42.300% 59.200% 1.00e-02     5 \n",
      " 16.02   6.57e-01 100.000% 1.11e+00 6.93e-01 61.000% 66.100% 1.00e-02     5 \n",
      " 18.04   6.83e-01 50.000% 5.14e-01 6.94e-01 48.700% 66.100% 1.00e-02     5 \n",
      " 20.02   6.27e-01 75.000% 4.83e-01 7.05e-01 47.200% 66.100% 1.00e-02     5 \n",
      " 22.00   7.53e-01 25.000% 8.35e-01 7.01e-01 40.300% 66.100% 1.00e-02     5 \n",
      " 24.02   6.46e-01 50.000% 4.82e-01 7.51e-01 47.200% 66.100% 1.00e-02     5 \n",
      " 24.99   5.26e-01 75.000% 5.34e-01                   66.100% 1.00e-02     5 \n"
     ]
    },
    {
     "ename": "TypeError",
     "evalue": "'HessianlearnModel' object is not iterable",
     "output_type": "error",
     "traceback": [
      "\u001b[0;31m---------------------------------------------------------------------------\u001b[0m",
      "\u001b[0;31mTypeError\u001b[0m                                 Traceback (most recent call last)",
      "\u001b[0;32m<ipython-input-36-81ce048a4ffb>\u001b[0m in \u001b[0;36m<module>\u001b[0;34m\u001b[0m\n\u001b[1;32m      2\u001b[0m \u001b[0mmodel_SFN\u001b[0m \u001b[0;34m=\u001b[0m \u001b[0mxor_model\u001b[0m\u001b[0;34m(\u001b[0m\u001b[0;34m)\u001b[0m\u001b[0;34m\u001b[0m\u001b[0;34m\u001b[0m\u001b[0m\n\u001b[1;32m      3\u001b[0m \u001b[0;31m#Train Model\u001b[0m\u001b[0;34m\u001b[0m\u001b[0;34m\u001b[0m\u001b[0;34m\u001b[0m\u001b[0m\n\u001b[0;32m----> 4\u001b[0;31m \u001b[0mHLmodel_SFN\u001b[0m\u001b[0;34m,\u001b[0m \u001b[0mmodel_trained\u001b[0m \u001b[0;34m=\u001b[0m \u001b[0mtrain_LRSFN\u001b[0m\u001b[0;34m(\u001b[0m\u001b[0mdata_train\u001b[0m\u001b[0;34m,\u001b[0m \u001b[0mtarget_train\u001b[0m\u001b[0;34m,\u001b[0m \u001b[0mdata_val\u001b[0m\u001b[0;34m,\u001b[0m \u001b[0mtarget_val\u001b[0m\u001b[0;34m,\u001b[0m \u001b[0mmodel_SGD\u001b[0m\u001b[0;34m)\u001b[0m\u001b[0;34m\u001b[0m\u001b[0;34m\u001b[0m\u001b[0m\n\u001b[0m",
      "\u001b[0;31mTypeError\u001b[0m: 'HessianlearnModel' object is not iterable"
     ]
    }
   ],
   "source": [
    "#Initialize Model\n",
    "model_SFN = xor_model()\n",
    "#Train Model\n",
    "HLmodel_SFN, model_trained = train_LRSFN(data_train, target_train, data_val, target_val, model_SGD)"
   ]
  },
  {
   "cell_type": "code",
   "execution_count": null,
   "id": "disciplinary-diary",
   "metadata": {},
   "outputs": [],
   "source": [
    "y_pred = predictions_xor(model_SFN, data_test)\n",
    "plot_red_blue_data(data_test, y_pred, \"Predictions with SFN Optimizer\")"
   ]
  },
  {
   "cell_type": "code",
   "execution_count": null,
   "id": "abstract-giving",
   "metadata": {},
   "outputs": [],
   "source": []
  },
  {
   "cell_type": "code",
   "execution_count": 19,
   "id": "adverse-baking",
   "metadata": {},
   "outputs": [],
   "source": [
    "def train_LRSFN(x_train, y_train, x_val, y_val, model):\n",
    "    \"\"\"Function to train a model with the Low Rank Saddle Free Newton Method\"\"\"\n",
    "    #Initialize problem\n",
    "    problem = ClassificationProblem(model,dtype = tf.float32)\n",
    "    #Initialize data objects\n",
    "    train_data = {problem.x:x_train, problem.y_true:y_train}\n",
    "    validation_data = {problem.x:x_val, problem.y_true:y_val}\n",
    "    #Initialize model parameters\n",
    "    HLModelSettings = HessianlearnModelSettings()\n",
    "    HLModelSettings['hessian_low_rank'] = 5\n",
    "    HLModelSettings['max_sweeps'] = 25\n",
    "    HLModelSettings['alpha'] = 1e-2\n",
    "    HLModelSettings['printing_sweep_frequency'] = 2\n",
    "    regularization = L2Regularization(problem)\n",
    "    settings = {}\n",
    "    settings['batch_size'] = 128\n",
    "    settings['hess_batch_size'] = 128\n",
    "    #Create data object\n",
    "    data = Data(train_data,settings['batch_size'], validation_data = validation_data, hessian_batch_size=4)\n",
    "    #Fit model\n",
    "    HLModel = HessianlearnModel(problem,regularization,data,settings = HLModelSettings)\n",
    "    HLModel.fit()\n",
    "    return HLModel, model\n"
   ]
  },
  {
   "cell_type": "code",
   "execution_count": 20,
   "id": "established-impact",
   "metadata": {},
   "outputs": [
    {
     "ename": "NameError",
     "evalue": "name 'ClassificationProblem' is not defined",
     "output_type": "error",
     "traceback": [
      "\u001b[0;31m---------------------------------------------------------------------------\u001b[0m",
      "\u001b[0;31mNameError\u001b[0m                                 Traceback (most recent call last)",
      "\u001b[0;32m<ipython-input-20-511824e4933d>\u001b[0m in \u001b[0;36m<module>\u001b[0;34m\u001b[0m\n\u001b[0;32m----> 1\u001b[0;31m \u001b[0mHLmodel_SFN\u001b[0m\u001b[0;34m,\u001b[0m \u001b[0mmodel_trained\u001b[0m \u001b[0;34m=\u001b[0m \u001b[0mtrain_LRSFN\u001b[0m\u001b[0;34m(\u001b[0m\u001b[0mdata_train\u001b[0m\u001b[0;34m,\u001b[0m \u001b[0mtarget_train\u001b[0m\u001b[0;34m,\u001b[0m \u001b[0mdata_val\u001b[0m\u001b[0;34m,\u001b[0m \u001b[0mtarget_val\u001b[0m\u001b[0;34m,\u001b[0m \u001b[0mmodel_SGD\u001b[0m\u001b[0;34m)\u001b[0m\u001b[0;34m\u001b[0m\u001b[0;34m\u001b[0m\u001b[0m\n\u001b[0m",
      "\u001b[0;32m<ipython-input-19-82bdde96556a>\u001b[0m in \u001b[0;36mtrain_LRSFN\u001b[0;34m(x_train, y_train, x_val, y_val, model)\u001b[0m\n\u001b[1;32m      2\u001b[0m     \u001b[0;34m\"\"\"Function to train a model with the Low Rank Saddle Free Newton Method\"\"\"\u001b[0m\u001b[0;34m\u001b[0m\u001b[0;34m\u001b[0m\u001b[0m\n\u001b[1;32m      3\u001b[0m     \u001b[0;31m#Initialize problem\u001b[0m\u001b[0;34m\u001b[0m\u001b[0;34m\u001b[0m\u001b[0;34m\u001b[0m\u001b[0m\n\u001b[0;32m----> 4\u001b[0;31m     \u001b[0mproblem\u001b[0m \u001b[0;34m=\u001b[0m \u001b[0mClassificationProblem\u001b[0m\u001b[0;34m(\u001b[0m\u001b[0mmodel\u001b[0m\u001b[0;34m,\u001b[0m\u001b[0mdtype\u001b[0m \u001b[0;34m=\u001b[0m \u001b[0mtf\u001b[0m\u001b[0;34m.\u001b[0m\u001b[0mfloat32\u001b[0m\u001b[0;34m)\u001b[0m\u001b[0;34m\u001b[0m\u001b[0;34m\u001b[0m\u001b[0m\n\u001b[0m\u001b[1;32m      5\u001b[0m     \u001b[0;31m#Initialize data objects\u001b[0m\u001b[0;34m\u001b[0m\u001b[0;34m\u001b[0m\u001b[0;34m\u001b[0m\u001b[0m\n\u001b[1;32m      6\u001b[0m     \u001b[0mtrain_data\u001b[0m \u001b[0;34m=\u001b[0m \u001b[0;34m{\u001b[0m\u001b[0mproblem\u001b[0m\u001b[0;34m.\u001b[0m\u001b[0mx\u001b[0m\u001b[0;34m:\u001b[0m\u001b[0mx_train\u001b[0m\u001b[0;34m,\u001b[0m \u001b[0mproblem\u001b[0m\u001b[0;34m.\u001b[0m\u001b[0my_true\u001b[0m\u001b[0;34m:\u001b[0m\u001b[0my_train\u001b[0m\u001b[0;34m}\u001b[0m\u001b[0;34m\u001b[0m\u001b[0;34m\u001b[0m\u001b[0m\n",
      "\u001b[0;31mNameError\u001b[0m: name 'ClassificationProblem' is not defined"
     ]
    }
   ],
   "source": [
    "HLmodel_SFN, model_trained = train_LRSFN(data_train, target_train, data_val, target_val, model_SGD)"
   ]
  },
  {
   "cell_type": "code",
   "execution_count": null,
   "id": "reported-frontier",
   "metadata": {},
   "outputs": [],
   "source": []
  }
 ],
 "metadata": {
  "kernelspec": {
   "display_name": "Python 3",
   "language": "python",
   "name": "python3"
  },
  "language_info": {
   "codemirror_mode": {
    "name": "ipython",
    "version": 3
   },
   "file_extension": ".py",
   "mimetype": "text/x-python",
   "name": "python",
   "nbconvert_exporter": "python",
   "pygments_lexer": "ipython3",
   "version": "3.6.9"
  }
 },
 "nbformat": 4,
 "nbformat_minor": 5
}
